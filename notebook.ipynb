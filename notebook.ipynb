{
  "cells": [
    {
      "cell_type": "markdown",
      "metadata": {
        "id": "H9wADwK78DCz"
      },
      "source": [
        "# Proyek Analisis Data: Bike Sharing Dataset\n",
        "- **Nama:** Harry Bonthor Hutapea\n",
        "- **Email:** hutapeaharrry@gmail.com\n",
        "- **ID Dicoding:** harryhutapea"
      ]
    },
    {
      "cell_type": "markdown",
      "metadata": {
        "id": "eE0raob58DC0"
      },
      "source": [
        "## Menentukan Pertanyaan Bisnis"
      ]
    },
    {
      "cell_type": "markdown",
      "metadata": {
        "id": "GmQeQ5YF8DC0"
      },
      "source": [
        "- Bagaimana pengaruh cuaca terhadap jumlah penyewaan sepeda harian?\n",
        "- Apa perbedaan pola peminjaman sepeda antara hari kerja dan akhir pekan?"
      ]
    },
    {
      "cell_type": "markdown",
      "metadata": {
        "id": "H-z4QGlO8DC1"
      },
      "source": [
        "## Import Semua Packages/Library yang Digunakan"
      ]
    },
    {
      "cell_type": "code",
      "execution_count": null,
      "metadata": {
        "id": "FVYwaObI8DC1"
      },
      "outputs": [],
      "source": [
        "%pip install -r requirements.txt"
      ]
    },
    {
      "cell_type": "markdown",
      "metadata": {
        "id": "h_Sh51Xy8DC1"
      },
      "source": [
        "## Data Wrangling\n",
        "Dataset yang digunakan dalam proyek ini adalah dataset penyewaan sepeda harian (`day.csv`). Dataset ini mencakup catatan penyewaan sepeda harian beserta fitur terkait cuaca seperti suhu, kelembaban, kecepatan angin, dan indikator hari libur atau hari kerja.\n",
        "\n",
        "### Insight:\n",
        "- Dataset mencakup variabel seperti tanggal, kondisi cuaca, suhu, kelembaban, kecepatan angin, dan jumlah penyewaan.\n",
        "- Statistik deskriptif awal dan inspeksi visual diperlukan untuk memahami distribusi dan variabilitas data."
      ]
    },
    {
      "cell_type": "markdown",
      "metadata": {
        "id": "sXU2GBYu8DC1"
      },
      "source": [
        "### Gathering Data"
      ]
    },
    {
      "cell_type": "markdown",
      "source": [
        "Pada tahap ini, kita akan mengumpulkan data yang akan digunakan untuk analisis data penyewaan sepeda. Data yang digunakan adalah data penyewaan sepeda harian, yang mencakup informasi seperti tanggal, kondisi cuaca, dan jumlah penyewaan."
      ],
      "metadata": {
        "id": "qwwmqVe0W4ai"
      }
    },
    {
      "cell_type": "code",
      "execution_count": null,
      "metadata": {
        "id": "zjCBk1BI8DC1"
      },
      "outputs": [],
      "source": [
        "# Impor library untuk visualisasi data\n",
        "import matplotlib.pyplot as plt\n",
        "import seaborn as sns\n",
        "import pandas as pd\n",
        "\n",
        "# Memuat dataset\n",
        "raw_df = pd.read_csv('day.csv')\n",
        "\n",
        "# Konversi kolom tanggal ke format datetime\n",
        "raw_df['dteday'] = pd.to_datetime(raw_df['dteday'])\n",
        "\n",
        "# Ubah kolom-kolom yang bersifat kategori\n",
        "categorical_cols = ['season', 'yr', 'mnth', 'holiday', 'weekday', 'workingday', 'weathersit']\n",
        "for col in categorical_cols:\n",
        "    raw_df[col] = raw_df[col].astype('category')\n",
        "\n",
        "# Tampilkan 5 baris pertama dataset\n",
        "print(\"Raw Data Preview:\")\n",
        "print(raw_df.head().to_string(index=False))"
      ]
    },
    {
      "cell_type": "markdown",
      "source": [
        "**Insight:**\n",
        "\n",
        "\n",
        "\n",
        "*   Dataset diimpor dari file day.csv, yang merupakan data penyewaan sepeda harian.\n",
        "*   Dataset memiliki 731 baris dan 16 kolom.\n",
        "*   Kolom dteday telah dikonversi ke format datetime untuk mendukung analisis tren berdasarkan waktu.\n",
        "*   Kolom-kolom seperti season, yr, mnth, holiday, weekday, workingday, dan weathersit telah diubah menjadi tipe kategorikal.\n",
        "*   Variabel numerik seperti temp, atemp, hum, windspeed, casual, registered, dan cnt menyediakan informasi penting tentang kondisi cuaca dan jumlah penyewaan sepeda.\n",
        "*   Data ini menjadi dasar untuk analisis lebih lanjut mengenai pengaruh cuaca terhadap penyewaan sepeda dan perbandingan pola antara hari kerja dan akhir pekan.\n"
      ],
      "metadata": {
        "id": "MMi6xGaDkbCi"
      }
    },
    {
      "cell_type": "markdown",
      "source": [],
      "metadata": {
        "id": "-aoYTniW6DZr"
      }
    },
    {
      "cell_type": "markdown",
      "metadata": {
        "id": "FHSiqaZp8DC1"
      },
      "source": [
        "### Assessing Data"
      ]
    },
    {
      "cell_type": "markdown",
      "source": [
        "Pada tahap ini, kita menampilkan informasi dasar dari dataset, termasuk tipe data dan statistik deskriptif, untuk mendapatkan gambaran umum mengenai karakteristik dan variabilitas data."
      ],
      "metadata": {
        "id": "Mq_NPq0-6Cxr"
      }
    },
    {
      "cell_type": "code",
      "source": [
        "# Impor library yang dibutuhkan\n",
        "import pandas as pd\n",
        "\n",
        "# Tampilkan informasi dasar dan statistik deskriptif dataset\n",
        "print(\"Informasi Dataset:\")\n",
        "print(raw_df.info())\n",
        "\n",
        "print(\"Statistik Deskriptif:\")\n",
        "print(raw_df.describe())"
      ],
      "metadata": {
        "id": "ax-3tEjc9Cj1"
      },
      "execution_count": null,
      "outputs": []
    },
    {
      "cell_type": "markdown",
      "source": [
        "**Insight:**\n",
        "- Informasi dasar dan statistik deskriptif menunjukkan tipe data yang beragam (numerik dan kategorikal).\n",
        "- Statistik deskriptif memberikan gambaran tentang rata-rata, distribusi, dan variabilitas data penyewaan serta parameter cuaca.\n",
        "- Hal ini menjadi dasar untuk menentukan langkah-langkah pembersihan data selanjutnya."
      ],
      "metadata": {
        "id": "7dtxhAPrkhPL"
      }
    },
    {
      "cell_type": "code",
      "source": [],
      "metadata": {
        "id": "mNPQ2HqU6KkI"
      },
      "execution_count": null,
      "outputs": []
    },
    {
      "cell_type": "markdown",
      "metadata": {
        "id": "EhN5R4hr8DC1"
      },
      "source": [
        "### Cleaning Data"
      ]
    },
    {
      "cell_type": "markdown",
      "source": [
        "Pada tahap ini, kita menghapus data yang tidak konsisten dan outlier menggunakan metode IQR untuk memastikan analisis tidak terdistorsi oleh nilai-nilai ekstrem."
      ],
      "metadata": {
        "id": "wkPUfeTK6Of2"
      }
    },
    {
      "cell_type": "code",
      "source": [
        "# Import library yang dibutuhkan\n",
        "import pandas as pd\n",
        "\n",
        "# Membersihkan data dengan menghapus outlier pada kolom 'cnt' menggunakan metode IQR\n",
        "Q1 = raw_df['cnt'].quantile(0.25)\n",
        "Q3 = raw_df['cnt'].quantile(0.75)\n",
        "IQR = Q3 - Q1\n",
        "\n",
        "lower_bound = Q1 - 1.5 * IQR\n",
        "upper_bound = Q3 + 1.5 * IQR\n",
        "\n",
        "clean_df = raw_df[(raw_df['cnt'] >= lower_bound) & (raw_df['cnt'] <= upper_bound)]\n",
        "\n",
        "print(f\"Jumlah sebelum Cleaning: {raw_df.shape[0]}\")\n",
        "print(f\"Jumlah sesudah Cleaning: {clean_df.shape[0]}\")"
      ],
      "metadata": {
        "id": "jVnYpprE9Evz"
      },
      "execution_count": null,
      "outputs": []
    },
    {
      "cell_type": "markdown",
      "source": [
        "Jumlah sebelum Cleaning: 731\n",
        "\n",
        "Jumlah sesudah Cleaning: 706"
      ],
      "metadata": {
        "id": "uWrKgoU16ZNL"
      }
    },
    {
      "cell_type": "markdown",
      "metadata": {
        "id": "gp-Y6wU38DC1"
      },
      "source": [
        "**Insight:**\n",
        "- Proses cleaning data mengurangi jumlah record dari 731 menjadi 706 dengan menghapus outlier pada kolom 'cnt'.\n",
        "- Penghapusan outlier membantu memastikan bahwa analisis tidak terdistorsi oleh nilai-nilai ekstrem yang tidak representatif dari pola harian.\n",
        "- Data yang telah dibersihkan akan memberikan hasil analisis yang lebih akurat."
      ]
    },
    {
      "cell_type": "markdown",
      "metadata": {
        "id": "MW7WF2kr8DC1"
      },
      "source": [
        "### Explore ..."
      ]
    },
    {
      "cell_type": "markdown",
      "source": [
        "Pada tahap ini, kita melakukan visualisasi untuk memahami distribusi dan tren data penyewaan sepeda, yang membantu mengidentifikasi pola dan memberikan insight awal."
      ],
      "metadata": {
        "id": "LlLVhXjb664V"
      }
    },
    {
      "cell_type": "code",
      "execution_count": null,
      "metadata": {
        "id": "e9CQCZjk8DC2"
      },
      "outputs": [],
      "source": [
        "# Import library yang dibutuhkan\n",
        "import matplotlib.pyplot as plt\n",
        "import seaborn as sns\n",
        "\n",
        "# Visualisasi distribusi jumlah penyewaan\n",
        "plt.figure(figsize=(10,6))\n",
        "sns.histplot(clean_df['cnt'], bins=30, kde=True)\n",
        "plt.title('Distribusi Jumlah Penyewaan Sepeda')\n",
        "plt.xlabel('Jumlah Penyewaan')\n",
        "plt.ylabel('Frekuensi')\n",
        "plt.show()\n",
        "\n",
        "# Visualisasi tren penyewaan berdasarkan waktu\n",
        "plt.figure(figsize=(10,6))\n",
        "plt.plot(clean_df['dteday'], clean_df['cnt'], marker='o', linestyle='-', markersize=3)\n",
        "plt.title('Tren Penyewaan Sepeda Harian')\n",
        "plt.xlabel('Tanggal')\n",
        "plt.ylabel('Jumlah Penyewaan')\n",
        "plt.xticks(rotation=45)\n",
        "plt.tight_layout()\n",
        "plt.show()"
      ]
    },
    {
      "cell_type": "markdown",
      "source": [
        "**Insight:**\n",
        "- Distribusi jumlah penyewaan menunjukkan pola yang cenderung normal setelah penghapusan outlier.\n",
        "- Grafik tren harian mengungkapkan pola musiman dan fluktuasi harian yang dapat berkaitan dengan perubahan cuaca atau hari dalam minggu.\n",
        "- Analisis awal ini memberikan gambaran umum tentang dinamika penggunaan sepeda dari waktu ke waktu."
      ],
      "metadata": {
        "id": "th_Lzl2Fkj9O"
      }
    },
    {
      "cell_type": "markdown",
      "metadata": {
        "id": "zsyZjqak8DC2"
      },
      "source": [
        "## Visualization & Explanatory Analysis"
      ]
    },
    {
      "cell_type": "markdown",
      "metadata": {
        "id": "HZxOiQ6n8DC2"
      },
      "source": [
        "### Pertanyaan 1:"
      ]
    },
    {
      "cell_type": "code",
      "execution_count": null,
      "metadata": {
        "id": "1swJUdAD8DC2"
      },
      "outputs": [],
      "source": [
        "# Import library untuk visualisasi\n",
        "import matplotlib.pyplot as plt\n",
        "import seaborn as sns\n",
        "\n",
        "# Visualisasi pengaruh cuaca terhadap penyewaan sepeda\n",
        "plt.figure(figsize=(8,5))\n",
        "sns.boxplot(x='weathersit', y='cnt', data=clean_df, palette='coolwarm')\n",
        "plt.title('Pengaruh Cuaca terhadap Penyewaan Sepeda Harian')\n",
        "plt.xlabel('Kondisi Cuaca (1=Cerah, 2=Mendung, 3=Hujan Ringan/Salju, 4=Hujan Lebat/Salju)')\n",
        "plt.ylabel('Jumlah Penyewaan')\n",
        "plt.show()"
      ]
    },
    {
      "cell_type": "markdown",
      "metadata": {
        "id": "DgHI7CiU8DC2"
      },
      "source": [
        "### Pertanyaan 2:"
      ]
    },
    {
      "cell_type": "code",
      "execution_count": null,
      "metadata": {
        "id": "Go0lCsvO8DC2"
      },
      "outputs": [],
      "source": [
        "# Import library untuk visualisasi\n",
        "import matplotlib.pyplot as plt\n",
        "import seaborn as sns\n",
        "\n",
        "# Visualisasi perbandingan pola penyewaan antara hari kerja dan akhir pekan\n",
        "plt.figure(figsize=(8,5))\n",
        "sns.boxplot(x='workingday', y='cnt', data=clean_df, palette='muted')\n",
        "plt.title('Pola Peminjaman Sepeda: Hari Kerja vs. Akhir Pekan')\n",
        "plt.xlabel('Hari Kerja (0 = Akhir Pekan, 1 = Hari Kerja)')\n",
        "plt.ylabel('Jumlah Penyewaan')\n",
        "plt.show()"
      ]
    },
    {
      "cell_type": "markdown",
      "source": [
        "**Insight:**\n",
        "- Dari pertanyaan 1, terlihat bahwa kondisi cuaca yang lebih baik (misalnya, cerah) berkorelasi dengan peningkatan penyewaan, sedangkan cuaca buruk menurunkan penyewaan.\n",
        "- Dari pertanyaan 2, pola penyewaan pada hari kerja cenderung lebih stabil dan tinggi dibandingkan dengan akhir pekan, meskipun akhir pekan menunjukkan variabilitas yang lebih besar.\n",
        "- Visualisasi tersebut mendukung pemahaman terhadap pengaruh kondisi eksternal (cuaca dan tipe hari) terhadap penggunaan layanan bike-sharing."
      ],
      "metadata": {
        "id": "_0-36BDLklRg"
      }
    },
    {
      "cell_type": "markdown",
      "metadata": {
        "id": "_WeHlCeX8DC2"
      },
      "source": [
        "## Conclusion"
      ]
    },
    {
      "cell_type": "markdown",
      "metadata": {
        "id": "ZTcyR48Y8DC2"
      },
      "source": [
        "- Pengaruh cuaca terhadap penyewaan sepeda menunjukkan bahwa kondisi cuaca yang cerah berkorelasi dengan peningkatan penyewaan, sedangkan cuaca mendung atau buruk berkorelasi dengan penurunan penyewaan.\n",
        "\n",
        "- Pola penyewaan pada hari kerja cenderung lebih stabil dan tinggi dibandingkan dengan akhir pekan, meskipun akhir pekan menunjukkan variasi yang lebih besar.\n",
        "\n",
        "Insight-insight ini dapat digunakan untuk membantu pengambilan keputusan dalam pengelolaan layanan penyewaan sepeda."
      ]
    }
  ],
  "metadata": {
    "kernelspec": {
      "display_name": "Python 3",
      "language": "python",
      "name": "python3"
    },
    "language_info": {
      "name": "python",
      "version": "3.8.0 (tags/v3.8.0:fa919fd, Oct 14 2019, 19:21:23) [MSC v.1916 32 bit (Intel)]"
    },
    "orig_nbformat": 4,
    "vscode": {
      "interpreter": {
        "hash": "972b3bf27e332e87b5379f2791f6ef9dfc79c71018c370b0d7423235e20fe4d7"
      }
    },
    "colab": {
      "provenance": []
    }
  },
  "nbformat": 4,
  "nbformat_minor": 0
}